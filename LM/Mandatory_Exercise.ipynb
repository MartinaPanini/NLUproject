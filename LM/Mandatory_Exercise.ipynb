{
 "cells": [
  {
   "cell_type": "markdown",
   "id": "7b242e75",
   "metadata": {},
   "source": [
    "# Mandatory Exam Exercise\n",
    "## Part 1.A\n",
    "In this, you have to modify the baseline LM_RNN by adding a set of techniques that might improve the performance. In this, you have to add one modification at a time incrementally. If adding a modification decreases the performance, you can remove it and move forward with the others. However, in the report, you have to provide and comment on this unsuccessful experiment.  For each of your experiments, you have to print the performance expressed with Perplexity (PPL).\n",
    "<br>\n",
    "One of the important tasks of training a neural network is  hyperparameter optimization. Thus, you have to play with the hyperparameters to minimise the PPL and thus print the results achieved with the best configuration (in particular <b>the learning rate</b>). \n",
    "These are two links to the state-of-the-art papers which use vanilla RNN [paper1](https://ieeexplore.ieee.org/stamp/stamp.jsp?tp=&arnumber=5947611), [paper2](https://www.fit.vutbr.cz/research/groups/speech/publi/2010/mikolov_interspeech2010_IS100722.pdf). \n",
    "\n",
    "**Mandatory requirements**: For the following experiments the perplexity must be below 250 (***PPL < 250***).\n",
    "\n",
    "1. Replace RNN with a Long-Short Term Memory (LSTM) network --> [link](https://pytorch.org/docs/stable/generated/torch.nn.LSTM.html)\n",
    "2. Add two dropout layers: --> [link](https://pytorch.org/docs/stable/generated/torch.nn.Dropout.html)\n",
    "    - one after the embedding layer, \n",
    "    - one before the last linear layer\n",
    "3. Replace SGD with AdamW --> [link](https://pytorch.org/docs/stable/generated/torch.optim.AdamW.html)"
   ]
  },
  {
   "cell_type": "markdown",
   "id": "36df3034",
   "metadata": {},
   "source": [
    "## Part 1.B\n",
    "**Mandatory requirements**: For the following experiments the perplexity must be below 250 (***PPL < 250***) and it should be lower than the one achieved in Part 1.1 (i.e. base LSTM).\n",
    "\n",
    "Starting from the `LM_RNN` in which you replaced the RNN with a LSTM model, apply the following regularisation techniques:\n",
    "- Weight Tying \n",
    "- Variational Dropout (no DropConnect)\n",
    "- Non-monotonically Triggered AvSGD \n",
    "\n",
    "These techniques are described in [this paper](https://openreview.net/pdf?id=SyyGPP0TZ).\n"
   ]
  }
 ],
 "metadata": {
  "language_info": {
   "name": "python"
  }
 },
 "nbformat": 4,
 "nbformat_minor": 5
}
